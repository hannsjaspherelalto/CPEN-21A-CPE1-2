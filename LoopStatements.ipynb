{
  "nbformat": 4,
  "nbformat_minor": 0,
  "metadata": {
    "colab": {
      "name": "LoopStatements.ipynb",
      "provenance": [],
      "authorship_tag": "ABX9TyN012FRR6g44tVev+K9wDlI",
      "include_colab_link": true
    },
    "kernelspec": {
      "name": "python3",
      "display_name": "Python 3"
    },
    "language_info": {
      "name": "python"
    }
  },
  "cells": [
    {
      "cell_type": "markdown",
      "metadata": {
        "id": "view-in-github",
        "colab_type": "text"
      },
      "source": [
        "<a href=\"https://colab.research.google.com/github/hannsjaspherelalto/CPEN-21A-CPE1-2/blob/main/LoopStatements.ipynb\" target=\"_parent\"><img src=\"https://colab.research.google.com/assets/colab-badge.svg\" alt=\"Open In Colab\"/></a>"
      ]
    },
    {
      "cell_type": "code",
      "execution_count": 7,
      "metadata": {
        "colab": {
          "base_uri": "https://localhost:8080/"
        },
        "id": "xwJ_-r0MJhFW",
        "outputId": "340665f5-33f7-4599-d8a4-1aa07bd9d27e"
      },
      "outputs": [
        {
          "output_type": "stream",
          "name": "stdout",
          "text": [
            "1\n",
            "2\n",
            "3\n",
            "4\n",
            "5\n",
            "6\n",
            "7\n"
          ]
        }
      ],
      "source": [
        "#for loop Function\n",
        "\n",
        "numbers=[1, 2, 3, 4, 5, 6, 7]\n",
        "\n",
        "for x in numbers:\n",
        "  print(x)"
      ]
    },
    {
      "cell_type": "code",
      "source": [
        "#break statement\n",
        "\n",
        "numbers=[-2, -1, 0, 1, 2, 3, 4, 5, 6, 7]\n",
        "\n",
        "for x in numbers:\n",
        "  print(x)\n",
        "  if x < (x*5):\n",
        "    break"
      ],
      "metadata": {
        "colab": {
          "base_uri": "https://localhost:8080/"
        },
        "id": "Es28P_uOLDde",
        "outputId": "3de281b4-1d2d-497f-bdb6-e6ec3905a7a4"
      },
      "execution_count": 12,
      "outputs": [
        {
          "output_type": "stream",
          "name": "stdout",
          "text": [
            "-2\n",
            "-1\n",
            "0\n",
            "1\n"
          ]
        }
      ]
    },
    {
      "cell_type": "code",
      "source": [
        "#range function\n",
        "\n",
        "for x in range(5):\n",
        "  print(x)\n",
        "\n",
        "for y in range(3,6):\n",
        "  print (y)"
      ],
      "metadata": {
        "colab": {
          "base_uri": "https://localhost:8080/"
        },
        "id": "dCwOpNZeMlBW",
        "outputId": "d078c24f-69ee-4316-c2cb-d5cac6d3ec34"
      },
      "execution_count": 15,
      "outputs": [
        {
          "output_type": "stream",
          "name": "stdout",
          "text": [
            "0\n",
            "1\n",
            "2\n",
            "3\n",
            "4\n",
            "3\n",
            "4\n",
            "5\n"
          ]
        }
      ]
    },
    {
      "cell_type": "code",
      "source": [
        "#nested for loop\n",
        "\n",
        "color=[\"red\", \"blue\", \"green\", \"yellow\"]\n",
        "number=[1, 2, 3]\n",
        "\n",
        "for x in color:\n",
        "  for y in number:\n",
        "    print(y,x)\n",
        "    if y == 1:\n",
        "      if x == \"yellow\":\n",
        "        break"
      ],
      "metadata": {
        "colab": {
          "base_uri": "https://localhost:8080/"
        },
        "id": "DoSCsLNNM_cc",
        "outputId": "5346ece2-c043-4a3b-9070-3517287d7362"
      },
      "execution_count": 26,
      "outputs": [
        {
          "output_type": "stream",
          "name": "stdout",
          "text": [
            "1 red\n",
            "2 red\n",
            "3 red\n",
            "1 blue\n",
            "2 blue\n",
            "3 blue\n",
            "1 green\n",
            "2 green\n",
            "3 green\n",
            "1 yellow\n"
          ]
        }
      ]
    },
    {
      "cell_type": "code",
      "source": [
        "#while loop\n",
        "\n",
        "x=1\n",
        "\n",
        "while x<15:\n",
        "  print(x)\n",
        "  x+=2\n",
        "  if x>4:\n",
        "    print(\"\\n\")\n",
        "  if x>=11:\n",
        "    break"
      ],
      "metadata": {
        "colab": {
          "base_uri": "https://localhost:8080/"
        },
        "id": "zncg2CqZON5Q",
        "outputId": "46ca91d1-3590-480a-cf65-d1b94917721b"
      },
      "execution_count": 31,
      "outputs": [
        {
          "output_type": "stream",
          "name": "stdout",
          "text": [
            "1\n",
            "3\n",
            "\n",
            "\n",
            "5\n",
            "\n",
            "\n",
            "7\n",
            "\n",
            "\n",
            "9\n",
            "\n",
            "\n"
          ]
        }
      ]
    },
    {
      "cell_type": "code",
      "source": [
        "#continue statement\n",
        "\n",
        "x=2\n",
        "\n",
        "while x < 20:\n",
        "  print(x)\n",
        "  x+=3\n",
        "  if x>=11:\n",
        "    continue\n",
        "  print(x)"
      ],
      "metadata": {
        "colab": {
          "base_uri": "https://localhost:8080/"
        },
        "id": "JnT8ZUroQQhP",
        "outputId": "c07c023a-f4b2-4ed5-b0ae-a5f2a6c08ef1"
      },
      "execution_count": 36,
      "outputs": [
        {
          "output_type": "stream",
          "name": "stdout",
          "text": [
            "2\n",
            "5\n",
            "5\n",
            "8\n",
            "8\n",
            "11\n",
            "14\n",
            "17\n"
          ]
        }
      ]
    },
    {
      "cell_type": "code",
      "source": [
        "#else statement\n",
        "\n",
        "x=5\n",
        "\n",
        "while x<45:\n",
        "  print(x)\n",
        "  x+=5\n",
        "else:\n",
        "  print(\"The number is equal to 45.\")"
      ],
      "metadata": {
        "colab": {
          "base_uri": "https://localhost:8080/"
        },
        "id": "zgApTNHBRUKI",
        "outputId": "5bd7d8ce-9c1a-4129-9bd1-9cb2d8e1def0"
      },
      "execution_count": 73,
      "outputs": [
        {
          "output_type": "stream",
          "name": "stdout",
          "text": [
            "5\n",
            "10\n",
            "15\n",
            "20\n",
            "25\n",
            "30\n",
            "35\n",
            "40\n",
            "The number is equal to 45.\n"
          ]
        }
      ]
    },
    {
      "cell_type": "code",
      "source": [
        "#Activity 1\n",
        "\n",
        "x = [\"Value\"]\n",
        "y=0\n",
        "for word in x:\n",
        "  while y<=10:\n",
        "    print(word, y)\n",
        "    y+=1"
      ],
      "metadata": {
        "colab": {
          "base_uri": "https://localhost:8080/"
        },
        "id": "RlqMrewXUeQ-",
        "outputId": "9ff019ca-a6f7-4972-cd1c-05ff6f66821e"
      },
      "execution_count": 71,
      "outputs": [
        {
          "output_type": "stream",
          "name": "stdout",
          "text": [
            "Value 0\n",
            "Value 1\n",
            "Value 2\n",
            "Value 3\n",
            "Value 4\n",
            "Value 5\n",
            "Value 6\n",
            "Value 7\n",
            "Value 8\n",
            "Value 9\n",
            "Value 10\n"
          ]
        }
      ]
    },
    {
      "cell_type": "code",
      "source": [
        "#Activity 1 (alternative)\n",
        "\n",
        "for x in range(11):\n",
        "  print(\"Value \" + str(x))"
      ],
      "metadata": {
        "colab": {
          "base_uri": "https://localhost:8080/"
        },
        "id": "H_zbQku6R7bo",
        "outputId": "663862c7-0459-4319-f13b-8a5e3b7454d1"
      },
      "execution_count": 70,
      "outputs": [
        {
          "output_type": "stream",
          "name": "stdout",
          "text": [
            "Value 0\n",
            "Value 1\n",
            "Value 2\n",
            "Value 3\n",
            "Value 4\n",
            "Value 5\n",
            "Value 6\n",
            "Value 7\n",
            "Value 8\n",
            "Value 9\n",
            "Value 10\n"
          ]
        }
      ]
    },
    {
      "cell_type": "code",
      "source": [
        "#Act 2\n",
        "\n",
        "i=20\n",
        "\n",
        "while i>3:\n",
        "  if i!=3:\n",
        "    print(i)\n",
        "    i-=1"
      ],
      "metadata": {
        "colab": {
          "base_uri": "https://localhost:8080/"
        },
        "id": "qtVlBVdPTGVp",
        "outputId": "00ee64c5-b217-4af3-8b35-d6bed1b7f902"
      },
      "execution_count": 72,
      "outputs": [
        {
          "output_type": "stream",
          "name": "stdout",
          "text": [
            "20\n",
            "19\n",
            "18\n",
            "17\n",
            "16\n",
            "15\n",
            "14\n",
            "13\n",
            "12\n",
            "11\n",
            "10\n",
            "9\n",
            "8\n",
            "7\n",
            "6\n",
            "5\n",
            "4\n"
          ]
        }
      ]
    }
  ]
}