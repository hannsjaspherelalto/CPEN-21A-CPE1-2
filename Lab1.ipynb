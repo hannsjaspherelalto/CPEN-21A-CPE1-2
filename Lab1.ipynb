{
  "nbformat": 4,
  "nbformat_minor": 0,
  "metadata": {
    "colab": {
      "name": "Lab1.ipynb",
      "provenance": [],
      "authorship_tag": "ABX9TyOeOLsEuKsxSBG3Pgjzpdda",
      "include_colab_link": true
    },
    "kernelspec": {
      "name": "python3",
      "display_name": "Python 3"
    },
    "language_info": {
      "name": "python"
    }
  },
  "cells": [
    {
      "cell_type": "markdown",
      "metadata": {
        "id": "view-in-github",
        "colab_type": "text"
      },
      "source": [
        "<a href=\"https://colab.research.google.com/github/hannsjaspherelalto/CPEN-21A-CPE1-2/blob/main/Lab1.ipynb\" target=\"_parent\"><img src=\"https://colab.research.google.com/assets/colab-badge.svg\" alt=\"Open In Colab\"/></a>"
      ]
    },
    {
      "cell_type": "markdown",
      "metadata": {
        "id": "gVlf3-Y7AxHD"
      },
      "source": [
        "### ***Laboratory 1***"
      ]
    },
    {
      "cell_type": "code",
      "metadata": {
        "colab": {
          "base_uri": "https://localhost:8080/"
        },
        "id": "d7VqUDAA78zG",
        "outputId": "9e25d0cb-99b8-4107-c69d-29fa9227d926"
      },
      "source": [
        "#a python program that displays “Welcome to Python Programming”\n",
        "\n",
        "intro = \"\\\"Welcome to Python Programming\\\"\"\n",
        "\n",
        "print(intro)"
      ],
      "execution_count": 25,
      "outputs": [
        {
          "output_type": "stream",
          "name": "stdout",
          "text": [
            "\"Welcome to Python Programming\"\n"
          ]
        }
      ]
    },
    {
      "cell_type": "code",
      "metadata": {
        "colab": {
          "base_uri": "https://localhost:8080/"
        },
        "id": "XijqCPTf7Wfk",
        "outputId": "3e5b5406-a644-4de2-9f4b-aa517b84c927"
      },
      "source": [
        "#a python program that allows you to output your name, address, and age to an appropriate structure\n",
        "\n",
        "name = \"Hanns Jaspher A. Elalto\"\n",
        "address = \"Poblacion 2, Indang, Cavite\"\n",
        "age = 19\n",
        "\n",
        "print(\"My name is \" + name + \". I am \" + str(age) + \" years old. I live in \" + address + \".\")"
      ],
      "execution_count": 26,
      "outputs": [
        {
          "output_type": "stream",
          "name": "stdout",
          "text": [
            "My name is Hanns Jaspher A. Elalto. I am 19 years old. I live in Poblacion 2, Indang, Cavite.\n"
          ]
        }
      ]
    }
  ]
}