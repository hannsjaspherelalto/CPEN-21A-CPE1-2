{
  "nbformat": 4,
  "nbformat_minor": 0,
  "metadata": {
    "colab": {
      "name": "Midterm Exam.ipynb",
      "provenance": [],
      "authorship_tag": "ABX9TyMHuzQ3FVq97SrfR9P2CxbV",
      "include_colab_link": true
    },
    "kernelspec": {
      "name": "python3",
      "display_name": "Python 3"
    },
    "language_info": {
      "name": "python"
    }
  },
  "cells": [
    {
      "cell_type": "markdown",
      "metadata": {
        "id": "view-in-github",
        "colab_type": "text"
      },
      "source": [
        "<a href=\"https://colab.research.google.com/github/hannsjaspherelalto/CPEN-21A-CPE1-2/blob/main/Midterm_Exam.ipynb\" target=\"_parent\"><img src=\"https://colab.research.google.com/assets/colab-badge.svg\" alt=\"Open In Colab\"/></a>"
      ]
    },
    {
      "cell_type": "markdown",
      "metadata": {
        "id": "ua4MXUPRBotu"
      },
      "source": [
        "####Midterm Exam"
      ]
    },
    {
      "cell_type": "code",
      "metadata": {
        "colab": {
          "base_uri": "https://localhost:8080/"
        },
        "id": "-KFatCyqB4v0",
        "outputId": "a4817955-d00a-444b-dc42-0fba19131373"
      },
      "source": [
        "#problem statement 1\n",
        "\n",
        "a_name = \"Hanns Jaspher Angeles Elalto\"\n",
        "b_student_number = 202101663\n",
        "c_age = 19\n",
        "d_birthday = \"April 25, 2002\"\n",
        "e_address =  \"344 Lopez Jaena St. Poblacion 2, Indang, Cavite\"\n",
        "f_course = \"Bachelor of Science in Computer Engineering\"\n",
        "g_last_sem_gwa = \"92\"\n",
        "\n",
        "print(\"a. \"+a_name)\n",
        "print(\"b. \"+str(b_student_number))\n",
        "print(\"c. \"+str(c_age))\n",
        "print(\"d. \"+str(d_birthday))\n",
        "print(\"e. \"+str(e_address))\n",
        "print(\"f. \"+f_course)\n",
        "print(\"g. \"+str(g_last_sem_gwa))"
      ],
      "execution_count": 30,
      "outputs": [
        {
          "output_type": "stream",
          "name": "stdout",
          "text": [
            "a. Hanns Jaspher Angeles Elalto\n",
            "b. 202101663\n",
            "c. 19\n",
            "d. April 25, 2002\n",
            "e. 344 Lopez Jaena St. Poblacion 2, Indang, Cavite\n",
            "f. Bachelor of Science in Computer Engineering\n",
            "g. 92\n"
          ]
        }
      ]
    },
    {
      "cell_type": "code",
      "metadata": {
        "colab": {
          "base_uri": "https://localhost:8080/"
        },
        "id": "FhjIvZGkDjx8",
        "outputId": "f84c55e0-1a66-4549-8bec-dd7fa0156aae"
      },
      "source": [
        "#problem statement 2\n",
        "\n",
        "n = 4\n",
        "answ = \"Y\"\n",
        "\n",
        "print(\"a. \"+str((2<n)and(n<6)))\n",
        "print(\"b. \"+str((2<n)or(n==6)))\n",
        "print(\"c. \"+str(not(2<n)or(n==6)))\n",
        "print(\"d. \"+str(not(n<6)))\n",
        "print(\"e. \"+str(answ==\"Y\")or(answ==\"y\"))\n",
        "print(\"f. \"+str((answ==\"Y\")and(answ==\"y\")))\n",
        "print(\"g. \"+str(not(answ==\"y\")))\n",
        "print(\"h. \"+str(((2<n)and(n==5+1))or(answ==\"No\")))\n",
        "print(\"i. \"+str(((n==2)and(n==7))or(answ==\"Y\")))\n",
        "print(\"j. \"+str((n==2)and((n==7)or(answ==\"Y\"))))"
      ],
      "execution_count": 35,
      "outputs": [
        {
          "output_type": "stream",
          "name": "stdout",
          "text": [
            "a. True\n",
            "b. True\n",
            "c. False\n",
            "d. False\n",
            "e. True\n",
            "f. False\n",
            "g. True\n",
            "h. False\n",
            "i. True\n",
            "j. False\n"
          ]
        }
      ]
    },
    {
      "cell_type": "code",
      "metadata": {
        "colab": {
          "base_uri": "https://localhost:8080/"
        },
        "id": "g-ezaFweH5sT",
        "outputId": "8fa3801b-b749-47e3-ae2a-f545ce0c0aa2"
      },
      "source": [
        "#problem statement 3\n",
        "\n",
        "w = 7\n",
        "x = 2\n",
        "y = -3\n",
        "z = -10\n",
        "\n",
        "print(\"a. \"+str(x/y))\n",
        "print(\"b. \"+str(w/y/x))\n",
        "print(\"c. \"+str(z/y%x))\n",
        "print(\"d. \"+str(x%-y*w))\n",
        "print(\"e. \"+str(x%y))\n",
        "print(\"f. \"+str(z%w-y/x*5+5))\n",
        "print(\"g. \"+str(9-x%(2+y)))\n",
        "print(\"h. \"+str(z//w))\n",
        "print(\"i. \"+str((2+y)**2))\n",
        "print(\"j. \"+str(w/x*2))"
      ],
      "execution_count": 37,
      "outputs": [
        {
          "output_type": "stream",
          "name": "stdout",
          "text": [
            "a. -0.6666666666666666\n",
            "b. -1.1666666666666667\n",
            "c. 1.3333333333333335\n",
            "d. 14\n",
            "e. -1\n",
            "f. 16.5\n",
            "g. 9\n",
            "h. -2\n",
            "i. 1\n",
            "j. 7.0\n"
          ]
        }
      ]
    }
  ]
}