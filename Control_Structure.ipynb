{
  "nbformat": 4,
  "nbformat_minor": 0,
  "metadata": {
    "colab": {
      "name": "Control Structure.ipynb",
      "provenance": [],
      "authorship_tag": "ABX9TyO6Vy/nPst/1cn89vHIbYu4",
      "include_colab_link": true
    },
    "kernelspec": {
      "name": "python3",
      "display_name": "Python 3"
    },
    "language_info": {
      "name": "python"
    }
  },
  "cells": [
    {
      "cell_type": "markdown",
      "metadata": {
        "id": "view-in-github",
        "colab_type": "text"
      },
      "source": [
        "<a href=\"https://colab.research.google.com/github/hannsjaspherelalto/CPEN-21A-CPE1-2/blob/main/Control_Structure.ipynb\" target=\"_parent\"><img src=\"https://colab.research.google.com/assets/colab-badge.svg\" alt=\"Open In Colab\"/></a>"
      ]
    },
    {
      "cell_type": "code",
      "metadata": {
        "colab": {
          "base_uri": "https://localhost:8080/"
        },
        "id": "E6qHRaWbGyil",
        "outputId": "c10b0542-0e6d-4eb0-da53-2179c6289084"
      },
      "source": [
        "#if, elif, & else Functions\n",
        "\n",
        "a=420\n",
        "b=15651\n",
        "\n",
        "if a>b:\n",
        "  print(\"a>b\")\n",
        "elif a<b:\n",
        "  print(\"a<b\")\n",
        "else:\n",
        "  print(\"a=b\")\n"
      ],
      "execution_count": 22,
      "outputs": [
        {
          "output_type": "stream",
          "name": "stdout",
          "text": [
            "a<b\n"
          ]
        }
      ]
    },
    {
      "cell_type": "code",
      "metadata": {
        "colab": {
          "base_uri": "https://localhost:8080/"
        },
        "id": "52VGc9OwKuiS",
        "outputId": "d20d026e-465a-4b73-de25-0214018280a7"
      },
      "source": [
        "#short hand if and short hand else function\n",
        "\n",
        "c=2\n",
        "d=9\n",
        "\n",
        "if c==d: print(\"nice\") \n",
        "else: print(\"not nice\")"
      ],
      "execution_count": 23,
      "outputs": [
        {
          "output_type": "stream",
          "name": "stdout",
          "text": [
            "not nice\n"
          ]
        }
      ]
    },
    {
      "cell_type": "code",
      "metadata": {
        "colab": {
          "base_uri": "https://localhost:8080/"
        },
        "id": "Lryozu5dKvKk",
        "outputId": "9cbf75ae-f558-48e1-d3e4-974a6c4a8fbf"
      },
      "source": [
        "#and & or function\n",
        "a=5\n",
        "b=2\n",
        "c=3\n",
        "\n",
        "if a<b and b<c:\n",
        "  print(\"really nice\")\n",
        "elif a<b and b==3:\n",
        "  print(\"heck yeah\")\n",
        "elif a>b or b>c:\n",
        "  print(\"good\")\n",
        "else:\n",
        "  print(\"why\")"
      ],
      "execution_count": 30,
      "outputs": [
        {
          "output_type": "stream",
          "name": "stdout",
          "text": [
            "good\n"
          ]
        }
      ]
    },
    {
      "cell_type": "code",
      "metadata": {
        "colab": {
          "base_uri": "https://localhost:8080/"
        },
        "id": "gX2L8i9-L34w",
        "outputId": "e622e382-73ab-4c61-bcdf-cd2f06e346b9"
      },
      "source": [
        "#nested if\n",
        "\n",
        "a = 11\n",
        "b = 22\n",
        "c = 33\n",
        "\n",
        "if a>1:\n",
        "  print(\"greater than 1\")\n",
        "  if a>5:\n",
        "    print(\"greater than 5\")\n",
        "    if a>9:\n",
        "      print(\"greater than 9\")\n",
        "      if a>11:\n",
        "        print(\"greater than 11\")\n",
        "else:\n",
        "  print(\"a is not greater than 11\")"
      ],
      "execution_count": 34,
      "outputs": [
        {
          "output_type": "stream",
          "name": "stdout",
          "text": [
            "greater than 1\n"
          ]
        }
      ]
    },
    {
      "cell_type": "code",
      "metadata": {
        "colab": {
          "base_uri": "https://localhost:8080/"
        },
        "id": "S4XyIwvhMyuF",
        "outputId": "afb62ce3-db71-4162-ded6-c5b405819cfb"
      },
      "source": [
        "voting_age=int(input(\"Please input your age = \"))\n",
        "\n",
        "if voting_age>=18:\n",
        "  print(\"You are qualified.\")\n",
        "else:\n",
        "  print(\"You are not qualified to vote.\")"
      ],
      "execution_count": 38,
      "outputs": [
        {
          "output_type": "stream",
          "name": "stdout",
          "text": [
            "Please input your age = 69\n",
            "You are qualified.\n"
          ]
        }
      ]
    },
    {
      "cell_type": "code",
      "metadata": {
        "colab": {
          "base_uri": "https://localhost:8080/"
        },
        "id": "Kf0oF7nsNidB",
        "outputId": "cf9c4c9c-97db-4419-ebf2-2a898a6cb11d"
      },
      "source": [
        "x=float(input(\"Please input a number : \"))\n",
        "\n",
        "if x>0:\n",
        "  print(\"The number is a positive number.\")\n",
        "elif x<0:\n",
        "  print(\"The number is a negative numbner.\")\n",
        "else:\n",
        "  print(\"The number is zero.\")\n"
      ],
      "execution_count": 41,
      "outputs": [
        {
          "output_type": "stream",
          "name": "stdout",
          "text": [
            "Please input a number : -516.245\n",
            "The number is a negative numbner.\n"
          ]
        }
      ]
    },
    {
      "cell_type": "code",
      "metadata": {
        "colab": {
          "base_uri": "https://localhost:8080/"
        },
        "id": "8i5go2ZGOtPG",
        "outputId": "282bee02-0568-4420-bd79-a61cfa0b13c3"
      },
      "source": [
        "#Activity 3\n",
        "\n",
        "grades=float(input(\"Grades = \"))\n",
        "\n",
        "if grades>=75 and grades<=100:\n",
        "  print(\"Passed\")\n",
        "elif grades>=74 and grades<75:\n",
        "  print(\"Remedial\")\n",
        "elif grades<74:\n",
        "  print(\"Failed\")\n",
        "else:\n",
        "  print(\"Error, please input the appropriate grade.\")"
      ],
      "execution_count": 96,
      "outputs": [
        {
          "output_type": "stream",
          "name": "stdout",
          "text": [
            "Grades = 74.9999999999\n",
            "Remedial\n"
          ]
        }
      ]
    }
  ]
}