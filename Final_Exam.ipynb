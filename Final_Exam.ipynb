{
  "nbformat": 4,
  "nbformat_minor": 0,
  "metadata": {
    "colab": {
      "name": "Final Exam.ipynb",
      "provenance": [],
      "collapsed_sections": [],
      "authorship_tag": "ABX9TyNYEFm3VTtfeyF+tJ//ly/J",
      "include_colab_link": true
    },
    "kernelspec": {
      "name": "python3",
      "display_name": "Python 3"
    },
    "language_info": {
      "name": "python"
    }
  },
  "cells": [
    {
      "cell_type": "markdown",
      "metadata": {
        "id": "view-in-github",
        "colab_type": "text"
      },
      "source": [
        "<a href=\"https://colab.research.google.com/github/hannsjaspherelalto/CPEN-21A-CPE1-2/blob/main/Final_Exam.ipynb\" target=\"_parent\"><img src=\"https://colab.research.google.com/assets/colab-badge.svg\" alt=\"Open In Colab\"/></a>"
      ]
    },
    {
      "cell_type": "markdown",
      "source": [
        "Final Exam"
      ],
      "metadata": {
        "id": "9ssE_ngfxNzE"
      }
    },
    {
      "cell_type": "code",
      "source": [
        "sum=0\n",
        "z=1\n",
        "\n",
        "for x in range(1, 11):\n",
        "  y=float(input(\"#\" + str(z) + \" = \"))\n",
        "  z+=1\n",
        "  if y<5:\n",
        "    sum+y\n",
        "    sum=sum+y\n",
        "\n",
        "print(\"\\n The sum of the numbers less than 5 is \" + str(sum))"
      ],
      "metadata": {
        "colab": {
          "base_uri": "https://localhost:8080/"
        },
        "id": "CpvUD8cpMH4x",
        "outputId": "ee18c009-ed9e-4e94-e00c-d0bac40eae58"
      },
      "execution_count": 106,
      "outputs": [
        {
          "output_type": "stream",
          "name": "stdout",
          "text": [
            "#1 = 1\n",
            "#2 = 5\n",
            "#3 = 8\n",
            "#4 = 3\n",
            "#5 = 4\n",
            "#6 = 6\n",
            "#7 = 2\n",
            "#8 = 7\n",
            "#9 = 1\n",
            "#10 = 6\n",
            "\n",
            " The sum of the numbers less than 5 is 11.0\n"
          ]
        }
      ]
    },
    {
      "cell_type": "code",
      "source": [
        "x=1\n",
        "num = []\n",
        "while x != 6:\n",
        "  y = float(input(\"#\" + str(x) + \" = \" ))\n",
        "  num.append(y)\n",
        "  x+=1\n",
        "z = num[0] + num[4]\n",
        "print(\"The sum of the 1st and 5th number entered is \" + str(z))"
      ],
      "metadata": {
        "colab": {
          "base_uri": "https://localhost:8080/"
        },
        "id": "0GTPy3PrqAoE",
        "outputId": "5b516e0b-5a85-4681-a280-7034f66c387d"
      },
      "execution_count": 133,
      "outputs": [
        {
          "output_type": "stream",
          "name": "stdout",
          "text": [
            "#1 = 56\n",
            "#2 = 15\n",
            "#3 = 48\n",
            "#4 = -89\n",
            "#5 = 4\n",
            "The sum of the 1st and 5th number entered is 60.0\n"
          ]
        }
      ]
    },
    {
      "cell_type": "code",
      "source": [
        "g=float(input(\"Please input the numerical grade to be evaluated: \"))\n",
        "\n",
        "if g<60:\n",
        "  print(\"F\")\n",
        "else:\n",
        "  if g>=60 and g<70:\n",
        "    print(\"D\")\n",
        "  else:\n",
        "    if g>=70 and g<80:\n",
        "      print(\"C\")\n",
        "    else:\n",
        "      if g>=80 and g<90:\n",
        "        print(\"B\")\n",
        "      else:\n",
        "        if g>=90:\n",
        "          print(\"A\")"
      ],
      "metadata": {
        "colab": {
          "base_uri": "https://localhost:8080/"
        },
        "id": "p60z0WGyOzCo",
        "outputId": "76d43846-cd03-4d02-b45b-0cb5c6496c79"
      },
      "execution_count": 134,
      "outputs": [
        {
          "output_type": "stream",
          "name": "stdout",
          "text": [
            "Please input the numerical grade to be evaluated: 98\n",
            "A\n"
          ]
        }
      ]
    }
  ]
}