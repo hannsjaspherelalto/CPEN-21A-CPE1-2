{
  "nbformat": 4,
  "nbformat_minor": 0,
  "metadata": {
    "colab": {
      "name": "Midterm Exam.ipynb",
      "provenance": [],
      "authorship_tag": "ABX9TyPDAlB8jyNyLFNH72nxF+JH",
      "include_colab_link": true
    },
    "kernelspec": {
      "name": "python3",
      "display_name": "Python 3"
    },
    "language_info": {
      "name": "python"
    }
  },
  "cells": [
    {
      "cell_type": "markdown",
      "metadata": {
        "id": "view-in-github",
        "colab_type": "text"
      },
      "source": [
        "<a href=\"https://colab.research.google.com/github/hannsjaspherelalto/CPEN-21A-CPE1-2/blob/main/Midterm_Exam.ipynb\" target=\"_parent\"><img src=\"https://colab.research.google.com/assets/colab-badge.svg\" alt=\"Open In Colab\"/></a>"
      ]
    },
    {
      "cell_type": "markdown",
      "metadata": {
        "id": "ua4MXUPRBotu"
      },
      "source": [
        "####Midterm Exam"
      ]
    },
    {
      "cell_type": "code",
      "metadata": {
        "colab": {
          "base_uri": "https://localhost:8080/"
        },
        "id": "-KFatCyqB4v0",
        "outputId": "94085754-8314-4fef-8a28-59695c40aa4d"
      },
      "source": [
        "#problem statement 1\n",
        "\n",
        "a_name = \"Hanns Jaspher Angeles Elalto\"\n",
        "b_student_number = 202101663\n",
        "c_age = 19\n",
        "d_birthday = \"April 25, 2002\"\n",
        "e_address =  \"344 Lopez Jaena St. Poblacion 2, Indang, Cavite\"\n",
        "f_course = \"Bachelor of Science in Computer Engineering\"\n",
        "g_last_sem_gwa = \"92\"\n",
        "\n",
        "print(a_name)\n",
        "print(b_student_number)\n",
        "print(c_age)\n",
        "print(d_birthday)\n",
        "print(e_address)\n",
        "print(f_course)\n",
        "print(g_last_sem_gwa)"
      ],
      "execution_count": 25,
      "outputs": [
        {
          "output_type": "stream",
          "name": "stdout",
          "text": [
            "Hanns Jaspher Angeles Elalto\n",
            "202101663\n",
            "19\n",
            "April 25, 2002\n",
            "344 Lopez Jaena St. Poblacion 2, Indang, Cavite\n",
            "Bachelor of Science in Computer Engineering\n",
            "92\n"
          ]
        }
      ]
    },
    {
      "cell_type": "code",
      "metadata": {
        "colab": {
          "base_uri": "https://localhost:8080/"
        },
        "id": "FhjIvZGkDjx8",
        "outputId": "bfd9ca9d-90c8-4c25-aa37-d528e9962c62"
      },
      "source": [
        "#problem statement 2\n",
        "\n",
        "n = 4\n",
        "answ = \"Y\"\n",
        "\n",
        "print((2<n)and(n<6))\n",
        "print((2<n)or(n==6))\n",
        "print(not(2<n)or(n==6))\n",
        "print(not(n<6))\n",
        "print(answ==\"Y\")or(answ==\"y\")\n",
        "print((answ==\"Y\")and(answ==\"y\"))\n",
        "print(not(answ==\"y\"))\n",
        "print(((2<n)and(n==5+1))or(answ==\"No\"))\n",
        "print(((n==2)and(n==7))or(answ==\"Y\"))\n",
        "print((n==2)and((n==7)or(answ==\"Y\")))"
      ],
      "execution_count": 23,
      "outputs": [
        {
          "output_type": "stream",
          "name": "stdout",
          "text": [
            "True\n",
            "True\n",
            "False\n",
            "False\n",
            "True\n",
            "False\n",
            "True\n",
            "False\n",
            "True\n",
            "False\n"
          ]
        }
      ]
    },
    {
      "cell_type": "code",
      "metadata": {
        "colab": {
          "base_uri": "https://localhost:8080/"
        },
        "id": "g-ezaFweH5sT",
        "outputId": "44c037a4-ba8c-4c43-ffa7-7e64313bd40e"
      },
      "source": [
        "#problem statement 3\n",
        "\n",
        "w = 7\n",
        "x = 2\n",
        "y = -3\n",
        "z = -10\n",
        "\n",
        "print(x/y)\n",
        "print(w/y/x)\n",
        "print(z/y%x)\n",
        "print(x%-y*w)\n",
        "print(x%y)\n",
        "print(z%w-y/x*5+5)\n",
        "print(9-x%(2+y))\n",
        "print(z//w)\n",
        "print((2+y)**2)\n",
        "print(w/x*2)"
      ],
      "execution_count": 24,
      "outputs": [
        {
          "output_type": "stream",
          "name": "stdout",
          "text": [
            "-0.6666666666666666\n",
            "-1.1666666666666667\n",
            "1.3333333333333335\n",
            "14\n",
            "-1\n",
            "16.5\n",
            "9\n",
            "-2\n",
            "1\n",
            "7.0\n"
          ]
        }
      ]
    }
  ]
}