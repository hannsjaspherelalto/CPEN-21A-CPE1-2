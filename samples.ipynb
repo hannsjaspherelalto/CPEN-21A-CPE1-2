{
  "nbformat": 4,
  "nbformat_minor": 0,
  "metadata": {
    "colab": {
      "name": "samples",
      "provenance": [],
      "collapsed_sections": [],
      "authorship_tag": "ABX9TyNfiJH8YBUcjunTViccWm9D",
      "include_colab_link": true
    },
    "kernelspec": {
      "name": "python3",
      "display_name": "Python 3"
    },
    "language_info": {
      "name": "python"
    }
  },
  "cells": [
    {
      "cell_type": "markdown",
      "metadata": {
        "id": "view-in-github",
        "colab_type": "text"
      },
      "source": [
        "<a href=\"https://colab.research.google.com/github/hannsjaspherelalto/CPEN-21A-CPE1-2/blob/main/samples.ipynb\" target=\"_parent\"><img src=\"https://colab.research.google.com/assets/colab-badge.svg\" alt=\"Open In Colab\"/></a>"
      ]
    },
    {
      "cell_type": "code",
      "metadata": {
        "colab": {
          "base_uri": "https://localhost:8080/"
        },
        "id": "z5t3zk0G3lHw",
        "outputId": "95a3259a-be8c-43b1-8b6c-72ff64a2af52"
      },
      "source": [
        "#Use of print and variables, conversion of data type\n",
        "\n",
        "full_name = \"Hanns Jaspher A. Elalto\"\n",
        "age = 19\n",
        "AGE = 20\n",
        "\n",
        "print (\"My name is \"  + full_name + \".\" + \"\\n\" + \"I am \" + str(age) + \" years old.\" + \"\\n\" + \"I'll be turning \" + str(AGE) + \" at next April.\")"
      ],
      "execution_count": 9,
      "outputs": [
        {
          "output_type": "stream",
          "name": "stdout",
          "text": [
            "My name is Hanns Jaspher A. Elalto.\n",
            "I am 19 years old.\n",
            "I'll be turning 20 at next April.\n"
          ]
        }
      ]
    },
    {
      "cell_type": "code",
      "metadata": {
        "id": "bSzA_Bh_5gsH",
        "colab": {
          "base_uri": "https://localhost:8080/"
        },
        "outputId": "cd43380b-7535-4dae-a30b-5e6ee5d74bfc"
      },
      "source": [
        "#Arithmetic operations\n",
        "\n",
        "w = (y/x)\n",
        "x = 9\n",
        "y = 81\n",
        "z = -98\n",
        "\n",
        "print (z*x)\n",
        "print (w)\n",
        "print ((x*y), (y/x))\n",
        "print ((y % 4) + (w) * (x*y))"
      ],
      "execution_count": 18,
      "outputs": [
        {
          "output_type": "stream",
          "name": "stdout",
          "text": [
            "-882\n",
            "9.0\n",
            "729 9.0\n",
            "6562.0\n"
          ]
        }
      ]
    },
    {
      "cell_type": "code",
      "metadata": {
        "colab": {
          "base_uri": "https://localhost:8080/"
        },
        "id": "It8O1RZ1V5dH",
        "outputId": "f25f26f0-23f2-438d-f2cc-493ecb55edfc"
      },
      "source": [
        "#Comparison operators and logical operators\n",
        "\n",
        "w = 5\n",
        "x = 10\n",
        "y = 9\n",
        "z = 7\n",
        "\n",
        "print ((w+x), (y+z), (w+x)==(y+z))\n",
        "print ((w*y), (x*z), (w*y)>(x*z) or (w*y)<(x*z))\n",
        "print (not(((w*y)>(x*z) or (w*y)<(x*z)) and ((w*y)>(x*z) or (w*y)<(x*z))))\n",
        "print ((x*z) is not (w*z))"
      ],
      "execution_count": 34,
      "outputs": [
        {
          "output_type": "stream",
          "name": "stdout",
          "text": [
            "15 16 False\n",
            "45 70 True\n",
            "False\n",
            "True\n"
          ]
        }
      ]
    }
  ]
}